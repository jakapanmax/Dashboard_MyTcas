{
 "cells": [
  {
   "cell_type": "code",
   "execution_count": null,
   "id": "1b341aa7",
   "metadata": {},
   "outputs": [],
   "source": [
    "# Import required libraries\n",
    "import pandas as pd\n",
    "import re\n",
    "import numpy as np"
   ]
  },
  {
   "cell_type": "code",
   "execution_count": 2,
   "id": "d3641c3e",
   "metadata": {},
   "outputs": [],
   "source": [
    "def estimate_fee_per_term(text):\n",
    "    if pd.isna(text) or \"ไม่พบข้อมูล\" in text.lower():\n",
    "        return np.nan\n",
    "    if text.strip().startswith(\"http\"):\n",
    "        return np.nan\n",
    "\n",
    "    numbers = [int(n.replace(\",\", \"\")) for n in re.findall(r'\\d[\\d,]*', text)]\n",
    "    if not numbers:\n",
    "        return np.nan\n",
    "\n",
    "    text = text.lower()\n",
    "\n",
    "    if re.fullmatch(r\"\\d[\\d,]* *บาท?\", text.strip()):\n",
    "        fee = numbers[0]\n",
    "        return round(fee / 8) if fee > 70000 else fee\n",
    "\n",
    "    if re.fullmatch(r\"\\d[\\d,]*\", text.strip()):\n",
    "        fee = numbers[0]\n",
    "        return round(fee / 8) if fee > 70000 else fee\n",
    "\n",
    "    if any(k in text for k in [\"ต่อภาคการศึกษา\", \"ต่อภาคเรียน\", \"บาท/เทอม\"]):\n",
    "        if \"ตลอดหลักสูตร\" in text:\n",
    "            bracket_match = re.search(r\"\\((.*?)\\)\", text)\n",
    "            if bracket_match:\n",
    "                inside = bracket_match.group(1).strip()\n",
    "                pattern = r\"(\\d[\\d,]*)\\s*(บาท)?\\s*ต่อ(ภาคเรียน|ภาคการศึกษา|เทอม)\"\n",
    "                inner_match = re.search(pattern, inside)\n",
    "                if inner_match:\n",
    "                    return int(inner_match.group(1).replace(\",\", \"\"))\n",
    "        return numbers[0]\n",
    "\n",
    "    if \"ตลอดหลักสูตร\" in text:\n",
    "        return round(numbers[0] / 8)\n",
    "\n",
    "    if \"เทอมแรก\" in text and \"เทอมต่อไป\" in text:\n",
    "        if len(numbers) >= 2:\n",
    "            return round((numbers[0] + numbers[1]*7) / 8)\n",
    "        \n",
    "    if len(numbers) == 2 and \"แรกเข้า\" in text:\n",
    "        return round((numbers[0] * 8 + numbers[1]) / 8)\n",
    "\n",
    "    if \"ภาคการศึกษาละ 25,500\" in text:\n",
    "        return 25500\n",
    "\n",
    "    if \"ภาคการศึกษาแรก\" in text and \"ถัดไป\" in text:\n",
    "        if len(numbers) >= 2:\n",
    "            return round((numbers[0] + numbers[1]*7) / 8)\n",
    "\n",
    "    if \"สายวิทยาศาสตร์\" in text and \"สายสังคม\" in text:\n",
    "        if len(numbers) >= 2:\n",
    "            return round(sum(numbers[:2]) / 2)\n",
    "\n",
    "    if len(numbers) == 1:\n",
    "        return numbers[0]\n",
    "\n",
    "    if len(numbers) == 2:\n",
    "        return round(max(numbers) / 8)\n",
    "\n",
    "    return np.nan"
   ]
  },
  {
   "cell_type": "code",
   "execution_count": 3,
   "id": "d10052ef",
   "metadata": {},
   "outputs": [],
   "source": [
    "# Read the original data from Excel\n",
    "df = pd.read_excel(\"tcas_data.xlsx\")\n",
    "\n",
    "# Filter rows for AI and Computer Engineering programs\n",
    "df_ai = df[df[\"คำค้น\"] == \"วิศวกรรมปัญญาประดิษฐ์\"]\n",
    "df_ce = df[df[\"คำค้น\"] == \"วิศวกรรมคอมพิวเตอร์\"]\n",
    "\n",
    "# Find duplicate programs (same university and program name in both AI and CE)\n",
    "duplicate_rows = pd.merge(\n",
    "    df_ce,\n",
    "    df_ai,\n",
    "    on=[\"ชื่อมหาวิทยาลัย\", \"ชื่อหลักสูตร\"],\n",
    "    how=\"inner\"\n",
    " )\n",
    "\n",
    "# Get indices of duplicate rows in the Computer Engineering dataframe\n",
    "drop_indices = df_ce[\n",
    "    df_ce.set_index([\"ชื่อมหาวิทยาลัย\", \"ชื่อหลักสูตร\"]).index.isin(\n",
    "        duplicate_rows.set_index([\"ชื่อมหาวิทยาลัย\", \"ชื่อหลักสูตร\"]).index\n",
    "    )\n",
    "].index\n",
    "\n",
    "# Remove duplicate Computer Engineering rows from the original dataframe\n",
    "df_cleaned = df.drop(index=drop_indices)"
   ]
  },
  {
   "cell_type": "code",
   "execution_count": 4,
   "id": "7b3e7b71",
   "metadata": {},
   "outputs": [
    {
     "name": "stdout",
     "output_type": "stream",
     "text": [
      "📁 Saved tcas_no_fee.xlsx for programs without fee data.\n",
      "✅ Removed duplicates and converted fees to per-term successfully!\n"
     ]
    }
   ],
   "source": [
    "# Calculate per-term fee for each program using the custom function\n",
    "df_cleaned[\"ค่าใช้จ่ายต่อภาคการศึกษา\"] = df_cleaned[\"ค่าใช้จ่าย\"].apply(estimate_fee_per_term)\n",
    "\n",
    "# Separate programs with missing fee data\n",
    "df_no_fee = df_cleaned[df_cleaned[\"ค่าใช้จ่ายต่อภาคการศึกษา\"].isna()].copy()\n",
    "df_no_fee = df_no_fee.drop(columns=[\"ค่าใช้จ่ายต่อภาคการศึกษา\"])\n",
    "df_no_fee[\"ค่าใช้จ่าย\"] = df_no_fee[\"ค่าใช้จ่าย\"].apply(\n",
    "    lambda x: x if isinstance(x, str) and x.strip().startswith(\"http\") else \"ไม่พบข้อมูลค่าใช้จ่าย\"\n",
    "# If not a URL, mark as 'No fee data found' in Thai\n",
    ")\n",
    "df_no_fee.to_excel(\"tcas_no_fee.xlsx\", index=False)\n",
    "print(\"📁 Saved tcas_no_fee.xlsx for programs without fee data.\")\n",
    "\n",
    "# Keep only programs with valid per-term fee\n",
    "df_final = df_cleaned.dropna(subset=[\"ค่าใช้จ่ายต่อภาคการศึกษา\"]).copy()\n",
    "df_final.to_excel(\"tcas_cleaned.xlsx\", index=False)\n",
    "print(\"✅ Removed duplicates and converted fees to per-term successfully!\")"
   ]
  }
 ],
 "metadata": {
  "kernelspec": {
   "display_name": ".venv",
   "language": "python",
   "name": "python3"
  },
  "language_info": {
   "codemirror_mode": {
    "name": "ipython",
    "version": 3
   },
   "file_extension": ".py",
   "mimetype": "text/x-python",
   "name": "python",
   "nbconvert_exporter": "python",
   "pygments_lexer": "ipython3",
   "version": "3.11.0"
  }
 },
 "nbformat": 4,
 "nbformat_minor": 5
}
