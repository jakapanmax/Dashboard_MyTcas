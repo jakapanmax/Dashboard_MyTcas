{
 "cells": [
  {
   "cell_type": "code",
   "execution_count": 32,
   "id": "94f1f07f",
   "metadata": {},
   "outputs": [],
   "source": [
    "import pandas as pd\n",
    "import re\n",
    "import numpy as np"
   ]
  },
  {
   "cell_type": "code",
   "execution_count": 33,
   "id": "4894134e",
   "metadata": {},
   "outputs": [],
   "source": [
    "def estimate_fee_per_term(text):\n",
    "    if pd.isna(text) or \"ไม่พบข้อมูล\" in text.lower():\n",
    "        return np.nan\n",
    "    if text.strip().startswith(\"http\"):\n",
    "        return np.nan\n",
    "\n",
    "    numbers = [int(n.replace(\",\", \"\")) for n in re.findall(r'\\d[\\d,]*', text)]\n",
    "    if not numbers:\n",
    "        return np.nan\n",
    "\n",
    "    text = text.lower()\n",
    "\n",
    "    if re.fullmatch(r\"\\d[\\d,]* *บาท?\", text.strip()):\n",
    "        fee = numbers[0]\n",
    "        return round(fee / 8) if fee > 70000 else fee\n",
    "\n",
    "    if re.fullmatch(r\"\\d[\\d,]*\", text.strip()):\n",
    "        fee = numbers[0]\n",
    "        return round(fee / 8) if fee > 70000 else fee\n",
    "\n",
    "    if any(k in text for k in [\"ต่อภาคการศึกษา\", \"ต่อภาคเรียน\", \"บาท/เทอม\"]):\n",
    "        if \"ตลอดหลักสูตร\" in text:\n",
    "            bracket_match = re.search(r\"\\((.*?)\\)\", text)\n",
    "            if bracket_match:\n",
    "                inside = bracket_match.group(1).strip()\n",
    "                pattern = r\"(\\d[\\d,]*)\\s*(บาท)?\\s*ต่อ(ภาคเรียน|ภาคการศึกษา|เทอม)\"\n",
    "                inner_match = re.search(pattern, inside)\n",
    "                if inner_match:\n",
    "                    return int(inner_match.group(1).replace(\",\", \"\"))\n",
    "        return numbers[0]\n",
    "\n",
    "    if \"ตลอดหลักสูตร\" in text:\n",
    "        return round(numbers[0] / 8)\n",
    "\n",
    "    if \"เทอมแรก\" in text and \"เทอมต่อไป\" in text:\n",
    "        if len(numbers) >= 2:\n",
    "            return round((numbers[0] + numbers[1]*7) / 8)\n",
    "        \n",
    "    if len(numbers) == 2 and \"แรกเข้า\" in text:\n",
    "        return round((numbers[0] * 8 + numbers[1]) / 8)\n",
    "\n",
    "    if \"ภาคการศึกษาละ 25,500\" in text:\n",
    "        return 25500\n",
    "\n",
    "    if \"ภาคการศึกษาแรก\" in text and \"ถัดไป\" in text:\n",
    "        if len(numbers) >= 2:\n",
    "            return round((numbers[0] + numbers[1]*7) / 8)\n",
    "\n",
    "    if \"สายวิทยาศาสตร์\" in text and \"สายสังคม\" in text:\n",
    "        if len(numbers) >= 2:\n",
    "            return round(sum(numbers[:2]) / 2)\n",
    "\n",
    "    if len(numbers) == 1:\n",
    "        return numbers[0]\n",
    "\n",
    "    if len(numbers) == 2:\n",
    "        return round(max(numbers) / 8)\n",
    "\n",
    "    return np.nan"
   ]
  },
  {
   "cell_type": "code",
   "execution_count": null,
   "id": "54b6834f",
   "metadata": {},
   "outputs": [],
   "source": [
    "df = pd.read_excel(\"tcas_data.xlsx\")\n",
    "\n",
    "df_ai = df[df[\"คำค้น\"] == \"วิศวกรรมปัญญาประดิษฐ์\"]\n",
    "df_ce = df[df[\"คำค้น\"] == \"วิศวกรรมคอมพิวเตอร์\"]\n",
    "\n",
    "duplicate_rows = pd.merge(\n",
    "    df_ce,\n",
    "    df_ai,\n",
    "    on=[\"ชื่อมหาวิทยาลัย\", \"ชื่อหลักสูตร\"],\n",
    "    how=\"inner\"\n",
    ")\n",
    "\n",
    "drop_indices = df_ce[\n",
    "    df_ce.set_index([\"ชื่อมหาวิทยาลัย\", \"ชื่อหลักสูตร\"]).index.isin(\n",
    "        duplicate_rows.set_index([\"ชื่อมหาวิทยาลัย\", \"ชื่อหลักสูตร\"]).index\n",
    "    )\n",
    "].index\n",
    "\n",
    "df_cleaned = df.drop(index=drop_indices)"
   ]
  },
  {
   "cell_type": "code",
   "execution_count": null,
   "id": "0edcec3c",
   "metadata": {},
   "outputs": [
    {
     "name": "stdout",
     "output_type": "stream",
     "text": [
      "บันทึกไฟล์ tcas_no_fee.xlsx สำหรับรายการที่ไม่มีค่าใช้จ่ายเรียบร้อย\n",
      "ลบรายการซ้ำ และแปลงค่าใช้จ่ายเป็นต่อภาคการศึกษาเรียบร้อยแล้ว!\n"
     ]
    }
   ],
   "source": [
    "df_cleaned[\"ค่าใช้จ่ายต่อภาคการศึกษา\"] = df_cleaned[\"ค่าใช้จ่าย\"].apply(estimate_fee_per_term)\n",
    "\n",
    "df_no_fee = df_cleaned[df_cleaned[\"ค่าใช้จ่ายต่อภาคการศึกษา\"].isna()]\n",
    "df_no_fee = df_no_fee.drop(columns=[\"ค่าใช้จ่ายต่อภาคการศึกษา\"])\n",
    "df_no_fee[\"ค่าใช้จ่าย\"] = df_no_fee[\"ค่าใช้จ่าย\"].apply(\n",
    "    lambda x: x if isinstance(x, str) and x.strip().startswith(\"http\") else \"ไม่พบข้อมูลค่าใช้จ่าย\"\n",
    ")\n",
    "df_no_fee.to_excel(\"tcas_no_fee.xlsx\", index=False)\n",
    "print(\"📁 บันทึกไฟล์ tcas_no_fee.xlsx สำหรับรายการที่ไม่มีค่าใช้จ่ายเรียบร้อย\")\n",
    "\n",
    "df_final = df_cleaned.dropna(subset=[\"ค่าใช้จ่ายต่อภาคการศึกษา\"])\n",
    "df_final.to_excel(\"tcas_cleaned.xlsx\", index=False)\n",
    "print(\"✅ ลบรายการซ้ำ และแปลงค่าใช้จ่ายเป็นต่อภาคการศึกษาเรียบร้อยแล้ว!\")"
   ]
  }
 ],
 "metadata": {
  "kernelspec": {
   "display_name": ".venv",
   "language": "python",
   "name": "python3"
  },
  "language_info": {
   "codemirror_mode": {
    "name": "ipython",
    "version": 3
   },
   "file_extension": ".py",
   "mimetype": "text/x-python",
   "name": "python",
   "nbconvert_exporter": "python",
   "pygments_lexer": "ipython3",
   "version": "3.11.0"
  }
 },
 "nbformat": 4,
 "nbformat_minor": 5
}
